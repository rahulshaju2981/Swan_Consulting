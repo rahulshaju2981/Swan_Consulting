{
 "cells": [
  {
   "cell_type": "markdown",
   "id": "505cacc5-7355-416d-94cf-a1a579a06001",
   "metadata": {},
   "source": [
    "| Field | Description |\n",
    "| :--- | :--- |\n",
    "| CustomerID | Unique customer identifier |\n",
    "| Count | Always '1', representing a count per customer entry (likely redundant) |\n",
    "| Country | Country of the customer's location (all 'United States' in this dataset) |\n",
    "| State | State of the customer's location (all 'California' in this dataset) |\n",
    "| City | City of the customer's location |\n",
    "| Zip Code | Postal code of the customer's location |\n",
    "| Lat Long | Latitude and Longitude coordinates of the customer's location |\n",
    "| Latitude | Latitude coordinate of the customer's location |\n",
    "| Longitude | Longitude coordinate of the customer's location |\n",
    "| Gender | Customer's gender (Male/Female) |\n",
    "| Senior Citizen | Indicates if the customer is a senior citizen (Yes/No) |\n",
    "| Partner | Indicates if the customer has a partner (Yes/No) |\n",
    "| Dependents | Indicates if the customer has dependents (Yes/No) |\n",
    "| Tenure Months | Number of months the customer has stayed with the company |\n",
    "| Phone Service | Indicates if the customer has phone service (Yes/No) |\n",
    "| Multiple Lines | Indicates if the customer has multiple lines (Yes/No, No phone service) |\n",
    "| Internet Service | Type of internet service the customer has (DSL, Fiber optic, No) |\n",
    "| Online Security | Indicates if the customer has online security service (Yes/No, No internet service) |\n",
    "| Online Backup | Indicates if the customer has online backup service (Yes/No, No internet service) |\n",
    "| Device Protection | Indicates if the customer has device protection service (Yes/No, No internet service) |\n",
    "| Tech Support | Indicates if the customer has tech support service (Yes/No, No internet service) |\n",
    "| Streaming TV | Indicates if the customer has streaming TV service (Yes/No, No internet service) |\n",
    "| Streaming Movies | Indicates if the customer has streaming movies service (Yes/No, No internet service) |\n",
    "| Contract | The customer's contract type (Month-to-month, One year, Two year) |\n",
    "| Paperless Billing | Indicates if the customer has paperless billing (Yes/No) |\n",
    "| Payment Method | The customer's payment method |\n",
    "| Monthly Charges | The amount charged to the customer monthly |\n",
    "| Total Charges | The total amount charged to the customer over their tenure |\n",
    "| Churn Label | Indicates if the customer has churned (Yes/No) |\n",
    "| Churn Value | Binary indicator for churn (1 = Yes, 0 = No) |\n",
    "| Churn Reason | The reason for customer churn (if applicable) |"
   ]
  },
  {
   "cell_type": "code",
   "execution_count": null,
   "id": "2a25b9a8-2c61-41ce-aa4a-f292ceb6fd69",
   "metadata": {},
   "outputs": [],
   "source": []
  }
 ],
 "metadata": {
  "kernelspec": {
   "display_name": "Python 3 (ipykernel)",
   "language": "python",
   "name": "python3"
  },
  "language_info": {
   "codemirror_mode": {
    "name": "ipython",
    "version": 3
   },
   "file_extension": ".py",
   "mimetype": "text/x-python",
   "name": "python",
   "nbconvert_exporter": "python",
   "pygments_lexer": "ipython3",
   "version": "3.11.5"
  }
 },
 "nbformat": 4,
 "nbformat_minor": 5
}
