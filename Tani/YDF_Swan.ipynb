{
  "cells": [
    {
      "cell_type": "markdown",
      "metadata": {
        "id": "wonIuqsjQ0_t"
      },
      "source": [
        "<p style=\"text-align:center;\">\n",
        "<img src=\"https://github.com/digital-futures-academy/DataScienceMasterResources/blob/main/Resources/datascience-notebook-header.png?raw=true\"\n",
        "     alt=\"DigitalFuturesLogo\"\n",
        "     style=\"float: center; margin-right: 10px;\" />\n",
        "</p>\n",
        "\n",
        "## Digital Futures Data Programme\n",
        "\n",
        "### DT & RF with YDF\n",
        "https://ydf.readthedocs.io/en/latest/\n",
        "\n",
        "#### V4"
      ]
    },
    {
      "cell_type": "code",
      "execution_count": null,
      "metadata": {
        "id": "hMZNkeb4ItgH"
      },
      "outputs": [],
      "source": [
        "# Install YDF\n",
        "# What is YDF: https://ydf.readthedocs.io/en/stable/\n",
        "!pip install ydf -U"
      ]
    },
    {
      "cell_type": "code",
      "execution_count": null,
      "metadata": {
        "id": "KnbVOLScEhRu"
      },
      "outputs": [],
      "source": [
        "# Import required modules\n",
        "import ydf\n",
        "import pandas as pd\n",
        "from sklearn.model_selection import train_test_split\n",
        "import matplotlib.pyplot as plt"
      ]
    },
    {
      "cell_type": "code",
      "execution_count": null,
      "metadata": {
        "id": "7TigwwDVE5Ql"
      },
      "outputs": [],
      "source": [
        "# Read in penguins\n",
        "# REMINDER: Since we're working in colab, we first need to upload the file to cloud if we want to read it in\n",
        "df = pd.read_excel(\"1 - Project Data.xlsx\")"
      ]
    },
    {
      "cell_type": "code",
      "source": [
        "df['Total Charges'] = pd.to_numeric(df['Total Charges'], errors='coerce')\n",
        "df['Total Charges'].fillna(0, inplace=True)"
      ],
      "metadata": {
        "id": "K8lLCGQxdqgS"
      },
      "execution_count": null,
      "outputs": []
    },
    {
      "cell_type": "code",
      "execution_count": null,
      "metadata": {
        "id": "xjd1VlRCE8JX"
      },
      "outputs": [],
      "source": [
        "# View the data\n",
        "df.head()"
      ]
    },
    {
      "cell_type": "markdown",
      "metadata": {
        "id": "Zd26yd6dR-TX"
      },
      "source": [
        "> We are now going to skip _a lot_ of steps..\n",
        "\n",
        "> Ready to see the simplicity of YDF? Ok - let's go!"
      ]
    },
    {
      "cell_type": "code",
      "execution_count": null,
      "metadata": {
        "id": "-LZdrVnyFj0u"
      },
      "outputs": [],
      "source": [
        "# As usual, select our features & target\n",
        "# Nulls? Non-numerical data? Misaligned data types? Who cares - when you're using YDF\n",
        "features = list(df.columns)\n",
        "features.remove('Churn Value')\n",
        "features.remove('Churn Label')\n",
        "features.remove('Churn Reason')\n",
        "\n",
        "y = df['Churn Value']\n",
        "X = df[features]"
      ]
    },
    {
      "cell_type": "code",
      "execution_count": null,
      "metadata": {
        "id": "9tf8BodbF0WZ"
      },
      "outputs": [],
      "source": [
        "# We do the split, then bring back the targets because.. YDF doesn't even need the features split apart from the target! :o\n",
        "X_train, X_test, y_train, y_test = train_test_split(X, y, test_size=.2, random_state=1204, stratify=y)\n",
        "\n",
        "X_train['Churn Value'] = y_train # This is adding the label/target back to X train\n",
        "X_test['Churn Value'] = y_test   # Same for X_test"
      ]
    },
    {
      "cell_type": "code",
      "source": [
        "X_train.head()"
      ],
      "metadata": {
        "id": "h4nED_NHf369"
      },
      "execution_count": null,
      "outputs": []
    },
    {
      "cell_type": "markdown",
      "metadata": {
        "id": "XcovgRkqSohd"
      },
      "source": [
        "### Modelling"
      ]
    },
    {
      "cell_type": "code",
      "execution_count": null,
      "metadata": {
        "id": "5yxA6Z5kGSQF"
      },
      "outputs": [],
      "source": [
        "# Ready? Let's model - just as simple as sklearn\n",
        "model = ydf.GradientBoostedTreesLearner(label=\"Churn Value\")\n",
        "model = model.train(X_train)"
      ]
    },
    {
      "cell_type": "code",
      "source": [
        "# What is this?\n",
        "model"
      ],
      "metadata": {
        "id": "-6dKT-3MSvbp"
      },
      "execution_count": null,
      "outputs": []
    },
    {
      "cell_type": "code",
      "execution_count": null,
      "metadata": {
        "id": "X9HFEVYDGkrN"
      },
      "outputs": [],
      "source": [
        "# How well did we do on X_train?\n",
        "model.evaluate(X_train)"
      ]
    },
    {
      "cell_type": "code",
      "source": [
        "# What about X_test?\n",
        "model.evaluate(X_test)"
      ],
      "metadata": {
        "id": "LIccqZCB58jN"
      },
      "execution_count": null,
      "outputs": []
    },
    {
      "cell_type": "code",
      "execution_count": null,
      "metadata": {
        "id": "WNJqq_LyNnl5"
      },
      "outputs": [],
      "source": [
        "# Cherry on top - the visuals of the entire process\n",
        "model.plot_tree()"
      ]
    },
    {
      "cell_type": "code",
      "execution_count": null,
      "metadata": {
        "id": "Oym8uSZ2HHIW"
      },
      "outputs": [],
      "source": [
        "# Lastly, one of the major advantages of ydf: Comprehensive summary\n",
        "model.describe()"
      ]
    },
    {
      "cell_type": "markdown",
      "metadata": {
        "id": "EAx-X9CWJtm5"
      },
      "source": [
        "## Fine tuning"
      ]
    },
    {
      "cell_type": "code",
      "execution_count": null,
      "metadata": {
        "id": "U8HlfvwUHUUP"
      },
      "outputs": [],
      "source": [
        "# YDF has a built-in tuner to optimise your model.. very little to do for us!\n",
        "tuner = ydf.RandomSearchTuner(num_trials=50)"
      ]
    },
    {
      "cell_type": "code",
      "execution_count": null,
      "metadata": {
        "id": "NOgSJqHMJwm4"
      },
      "outputs": [],
      "source": [
        "# Fit the improved model\n",
        "new_model = ydf.GradientBoostedTreesLearner(tuner=tuner, label='Churn Value').train(X_train)"
      ]
    },
    {
      "cell_type": "code",
      "execution_count": null,
      "metadata": {
        "id": "JLQmAG06KMmU"
      },
      "outputs": [],
      "source": [
        "# Evaluate improved model on Train\n",
        "new_model.evaluate(X_train)"
      ]
    },
    {
      "cell_type": "code",
      "source": [
        "# And finally, on Test\n",
        "new_model.evaluate(X_test)"
      ],
      "metadata": {
        "id": "iLtHpVR87cT7"
      },
      "execution_count": null,
      "outputs": []
    }
  ],
  "metadata": {
    "colab": {
      "provenance": [],
      "collapsed_sections": [
        "XcovgRkqSohd",
        "EAx-X9CWJtm5"
      ]
    },
    "kernelspec": {
      "display_name": "Python 3 (ipykernel)",
      "language": "python",
      "name": "python3"
    },
    "language_info": {
      "codemirror_mode": {
        "name": "ipython",
        "version": 3
      },
      "file_extension": ".py",
      "mimetype": "text/x-python",
      "name": "python",
      "nbconvert_exporter": "python",
      "pygments_lexer": "ipython3",
      "version": "3.9.12"
    }
  },
  "nbformat": 4,
  "nbformat_minor": 0
}